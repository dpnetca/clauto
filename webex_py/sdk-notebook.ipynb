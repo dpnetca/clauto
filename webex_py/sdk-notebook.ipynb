{
 "metadata": {
  "language_info": {
   "codemirror_mode": {
    "name": "ipython",
    "version": 3
   },
   "file_extension": ".py",
   "mimetype": "text/x-python",
   "name": "python",
   "nbconvert_exporter": "python",
   "pygments_lexer": "ipython3",
   "version": "3.8.5-final"
  },
  "orig_nbformat": 2,
  "kernelspec": {
   "name": "python38564bitvenvvenv94844a081374498185a9b2a861acd3f9",
   "display_name": "Python 3.8.5 64-bit ('.venv': venv)"
  }
 },
 "nbformat": 4,
 "nbformat_minor": 2,
 "cells": [
  {
   "cell_type": "code",
   "execution_count": 1,
   "metadata": {},
   "outputs": [],
   "source": [
    "import os\n",
    "from webexteamssdk import WebexTeamsAPI"
   ]
  },
  {
   "cell_type": "code",
   "execution_count": 2,
   "metadata": {},
   "outputs": [],
   "source": [
    "user_access_token = os.getenv(\"WEBEX_TOKEN\")\n",
    "bot_access_token = os.getenv(\"WEBEX_BOT_TOKEN\")"
   ]
  },
  {
   "cell_type": "code",
   "execution_count": 3,
   "metadata": {},
   "outputs": [],
   "source": [
    "user_api = WebexTeamsAPI(access_token=user_access_token)\n",
    "bot_api = WebexTeamsAPI(access_token=bot_access_token)"
   ]
  },
  {
   "cell_type": "code",
   "execution_count": 4,
   "metadata": {},
   "outputs": [
    {
     "output_type": "execute_result",
     "data": {
      "text/plain": "Person('{\"id\": \"Y2lzY29zcGFyazovL3VzL1BFT1BMRS82YTZkMTJmMy1hZTY5LTQwOWItODI2OC0zNmZmZTIwMzlhZWE\", \"emails\": [\"webex@dpnet.ca\"], \"phoneNumbers\": [], \"displayName\": \"dpnet.ca\", \"nickName\": \"dpnet.ca\", \"orgId\": \"Y2lzY29zcGFyazovL3VzL09SR0FOSVpBVElPTi9jb25zdW1lcg\", \"created\": \"2020-02-01T13:57:36.282Z\", \"lastActivity\": \"2020-08-25T20:34:11.072Z\", \"status\": \"inactive\", \"type\": \"person\"}')"
     },
     "metadata": {},
     "execution_count": 4
    }
   ],
   "source": [
    "user_api.people.me()"
   ]
  },
  {
   "cell_type": "code",
   "execution_count": 5,
   "metadata": {},
   "outputs": [
    {
     "output_type": "execute_result",
     "data": {
      "text/plain": "Person('{\"id\": \"Y2lzY29zcGFyazovL3VzL1BFT1BMRS80YTc1ZDIwMi00MzgyLTRjMTMtOTY4Zi01YmQ1ODczOWYzZGI\", \"emails\": [\"dpnet.ca@webex.bot\"], \"phoneNumbers\": [], \"displayName\": \"dpnet.ca Bot\", \"nickName\": \"dpnet.ca\", \"avatar\": \"https://avatar-prod-us-east-2.webexcontent.com/Avtr~V1~consumer/V1~4a75d202-4382-4c13-968f-5bd58739f3db~462834bba1bb414f83699c0eff3f18ee~80\", \"orgId\": \"Y2lzY29zcGFyazovL3VzL09SR0FOSVpBVElPTi9jb25zdW1lcg\", \"created\": \"2020-08-25T19:28:30.521Z\", \"status\": \"unknown\", \"type\": \"bot\"}')"
     },
     "metadata": {},
     "execution_count": 5
    }
   ],
   "source": [
    "bot_api.people.me()"
   ]
  },
  {
   "cell_type": "code",
   "execution_count": 7,
   "metadata": {},
   "outputs": [],
   "source": [
    "user_rooms = user_api.rooms.list()"
   ]
  },
  {
   "cell_type": "code",
   "execution_count": 8,
   "metadata": {
    "tags": []
   },
   "outputs": [
    {
     "output_type": "stream",
     "name": "stdout",
     "text": "Y2lzY29zcGFyazovL3VzL1JPT00vYzMxYTYxZmUtYjExNy0zYmM2LWIzYjQtNGU5NWRhYThjMWJh\ngifbot gifbot\n----\nY2lzY29zcGFyazovL3VzL1JPT00vZTBlZWRiM2ItZjlhNy0zODIxLWE4M2MtZTUxN2Y2Yjc3OGQ2\nToFrench Translator\n----\nY2lzY29zcGFyazovL3VzL1JPT00vNGM5ZGZkNzAtZGIzYS0xMWVhLWJlNjEtMzEzNDI4YmM4ZDY1\nMy Test Room\n----\nY2lzY29zcGFyazovL3VzL1JPT00vMmE5ZmIwOTAtNDRmYi0xMWVhLWEyMTYtZmY3OWVlY2ZmYTI4\nother space\n----\nY2lzY29zcGFyazovL3VzL1JPT00vMjQ3YTViMjAtNDRmYi0xMWVhLWI5M2EtYzlmNGI1YzkxZDBi\nBotTest\n----\nY2lzY29zcGFyazovL3VzL1JPT00vOGVhYjcxZDItOWViNC0zYzE4LWE1NjgtODY0OWI5YTczZTQ2\nHelp Bot\n----\n"
    }
   ],
   "source": [
    "for room in user_rooms:\n",
    "    print(room.id)\n",
    "    print(room.title)\n",
    "    print (\"----\")"
   ]
  },
  {
   "cell_type": "code",
   "execution_count": 10,
   "metadata": {
    "tags": []
   },
   "outputs": [
    {
     "output_type": "stream",
     "name": "stdout",
     "text": "Webex Teams Membership:\n{\n  \"id\": \"Y2lzY29zcGFyazovL3VzL01FTUJFUlNISVAvNGE3NWQyMDItNDM4Mi00YzEzLTk2OGYtNWJkNTg3MzlmM2RiOjI0N2E1YjIwLTQ0ZmItMTFlYS1iOTNhLWM5ZjRiNWM5MWQwYg\",\n  \"roomId\": \"Y2lzY29zcGFyazovL3VzL1JPT00vMjQ3YTViMjAtNDRmYi0xMWVhLWI5M2EtYzlmNGI1YzkxZDBi\",\n  \"roomType\": \"group\",\n  \"personId\": \"Y2lzY29zcGFyazovL3VzL1BFT1BMRS80YTc1ZDIwMi00MzgyLTRjMTMtOTY4Zi01YmQ1ODczOWYzZGI\",\n  \"personEmail\": \"dpnet.ca@webex.bot\",\n  \"personDisplayName\": \"dpnet.ca Bot\",\n  \"personOrgId\": \"Y2lzY29zcGFyazovL3VzL09SR0FOSVpBVElPTi9jb25zdW1lcg\",\n  \"isModerator\": false,\n  \"isMonitor\": false,\n  \"isRoomHidden\": false,\n  \"created\": \"2020-08-25T19:40:22.779Z\"\n}\nWebex Teams Membership:\n{\n  \"id\": \"Y2lzY29zcGFyazovL3VzL01FTUJFUlNISVAvNGE3NWQyMDItNDM4Mi00YzEzLTk2OGYtNWJkNTg3MzlmM2RiOjRjOWRmZDcwLWRiM2EtMTFlYS1iZTYxLTMxMzQyOGJjOGQ2NQ\",\n  \"roomId\": \"Y2lzY29zcGFyazovL3VzL1JPT00vNGM5ZGZkNzAtZGIzYS0xMWVhLWJlNjEtMzEzNDI4YmM4ZDY1\",\n  \"roomType\": \"group\",\n  \"personId\": \"Y2lzY29zcGFyazovL3VzL1BFT1BMRS80YTc1ZDIwMi00MzgyLTRjMTMtOTY4Zi01YmQ1ODczOWYzZGI\",\n  \"personEmail\": \"dpnet.ca@webex.bot\",\n  \"personDisplayName\": \"dpnet.ca Bot\",\n  \"personOrgId\": \"Y2lzY29zcGFyazovL3VzL09SR0FOSVpBVElPTi9jb25zdW1lcg\",\n  \"isModerator\": false,\n  \"isMonitor\": false,\n  \"isRoomHidden\": false,\n  \"created\": \"2020-08-25T20:36:14.973Z\"\n}\n"
    }
   ],
   "source": [
    "for membership in bot_api.memberships.list():\n",
    "    print(membership)"
   ]
  },
  {
   "cell_type": "code",
   "execution_count": null,
   "metadata": {},
   "outputs": [],
   "source": []
  }
 ]
}